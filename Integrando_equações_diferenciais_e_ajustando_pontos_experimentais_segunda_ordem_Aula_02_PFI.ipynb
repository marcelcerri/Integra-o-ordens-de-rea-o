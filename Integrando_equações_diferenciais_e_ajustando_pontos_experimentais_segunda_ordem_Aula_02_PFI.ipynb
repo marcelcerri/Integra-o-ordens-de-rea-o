{
  "nbformat": 4,
  "nbformat_minor": 0,
  "metadata": {
    "colab": {
      "name": "Integrando equações diferenciais  e ajustando pontos experimentais - segunda ordem - Aula 02 PFI",
      "version": "0.3.2",
      "provenance": [],
      "include_colab_link": true
    }
  },
  "cells": [
    {
      "cell_type": "markdown",
      "metadata": {
        "id": "view-in-github",
        "colab_type": "text"
      },
      "source": [
        "[View in Colaboratory](https://colab.research.google.com/github/marcelcerri/Integra-o-ordens-de-rea-o/blob/master/Integrando_equa%C3%A7%C3%B5es_diferenciais_e_ajustando_pontos_experimentais_segunda_ordem_Aula_02_PFI.ipynb)"
      ]
    },
    {
      "metadata": {
        "id": "CCwi196E9u6X",
        "colab_type": "text"
      },
      "cell_type": "markdown",
      "source": [
        "https://www.youtube.com/watch?v=8-V5T40aMEc"
      ]
    },
    {
      "metadata": {
        "id": "JddB7Wdp_wPa",
        "colab_type": "text"
      },
      "cell_type": "markdown",
      "source": [
        "https://stackoverflow.com/questions/16001341/having-trouble-while-using-scipy-integrate-odeint-with-python?noredirect=1&lq=1\n"
      ]
    },
    {
      "metadata": {
        "id": "ve5rmK189t81",
        "colab_type": "code",
        "colab": {}
      },
      "cell_type": "code",
      "source": [
        "import numpy as np\n",
        "from scipy.integrate import odeint\n",
        "import matplotlib.pyplot as plt\n",
        "from scipy.optimize import curve_fit\n",
        "from google.colab import files"
      ],
      "execution_count": 0,
      "outputs": []
    },
    {
      "metadata": {
        "id": "uGIFhUr5-M5U",
        "colab_type": "code",
        "colab": {}
      },
      "cell_type": "code",
      "source": [
        "def secondorder(Ca,t, k):\n",
        "  return -k*Ca**2"
      ],
      "execution_count": 0,
      "outputs": []
    },
    {
      "metadata": {
        "id": "8-jZV5_A-7lW",
        "colab_type": "code",
        "colab": {}
      },
      "cell_type": "code",
      "source": [
        "def y(t, k, Ca0):\n",
        "  y = odeint(secondorder, Ca0, t, args=(k,))\n",
        "  return y.ravel()"
      ],
      "execution_count": 0,
      "outputs": []
    },
    {
      "metadata": {
        "id": "E8AIL1QS_iYg",
        "colab_type": "code",
        "colab": {
          "base_uri": "https://localhost:8080/",
          "height": 50
        },
        "outputId": "5a0c2200-71e6-43c5-f4cf-98d8e4770bc6"
      },
      "cell_type": "code",
      "source": [
        "t = np.linspace (0,10,11)\n",
        "data_ca = (20., 9.47368413, 6.20689638, 4.61538443, 3.67346922, 3.0508473, 2.60869551, 2.27848088, 2.02247179, 1.99999988, 1.81818171)\n",
        "print (t)\n",
        "print (data_ca)"
      ],
      "execution_count": 43,
      "outputs": [
        {
          "output_type": "stream",
          "text": [
            "[ 0.  1.  2.  3.  4.  5.  6.  7.  8.  9. 10.]\n",
            "(20.0, 9.47368413, 6.20689638, 4.61538443, 3.67346922, 3.0508473, 2.60869551, 2.27848088, 2.02247179, 1.99999988, 1.81818171)\n"
          ],
          "name": "stdout"
        }
      ]
    },
    {
      "metadata": {
        "id": "jerU_yVj_Uy4",
        "colab_type": "code",
        "colab": {
          "base_uri": "https://localhost:8080/",
          "height": 34
        },
        "outputId": "110c3f6c-98bb-4429-f496-40dab216e900"
      },
      "cell_type": "code",
      "source": [
        "popt, cov = curve_fit(y, t, data_ca, [20, 1])\n",
        "a_opt, y0_opt = popt\n",
        "print(y)"
      ],
      "execution_count": 44,
      "outputs": [
        {
          "output_type": "stream",
          "text": [
            "<function y at 0x7fdd3e24bc08>\n"
          ],
          "name": "stdout"
        }
      ]
    },
    {
      "metadata": {
        "id": "dbMEybU1_Ws9",
        "colab_type": "code",
        "colab": {
          "base_uri": "https://localhost:8080/",
          "height": 50
        },
        "outputId": "1f909be3-5618-43d5-d33d-561cae182146"
      },
      "cell_type": "code",
      "source": [
        "print(\"a = %g\" % a_opt)\n",
        "print(\"y0 = %g\" % y0_opt)"
      ],
      "execution_count": 45,
      "outputs": [
        {
          "output_type": "stream",
          "text": [
            "a = 0.055199\n",
            "y0 = 19.9904\n"
          ],
          "name": "stdout"
        }
      ]
    },
    {
      "metadata": {
        "id": "oHNeY97NACHY",
        "colab_type": "code",
        "colab": {
          "base_uri": "https://localhost:8080/",
          "height": 428
        },
        "outputId": "4077244d-6a4c-49bd-dc92-4ab1f9abadda"
      },
      "cell_type": "code",
      "source": [
        "import matplotlib.pyplot as plt\n",
        "plt.plot(t, data_ca, '.',\n",
        "         t, y(t, a_opt, y0_opt), '-')\n",
        "plt.gcf().set_size_inches(11, 7)\n",
        "plt.savefig('out.png', dpi=96)\n",
        "plt.show()"
      ],
      "execution_count": 47,
      "outputs": [
        {
          "output_type": "display_data",
          "data": {
            "image/png": "[encoded data removed]",
            "text/plain": [
              "<matplotlib.figure.Figure at 0x7fdd3e11ad10>"
            ]
          },
          "metadata": {
            "tags": []
          }
        }
      ]
    }
  ]
}