{
  "nbformat": 4,
  "nbformat_minor": 0,
  "metadata": {
    "colab": {
      "name": "Integrando equações diferenciais - segunda ordem - Aula 02 PFI",
      "version": "0.3.2",
      "provenance": [],
      "include_colab_link": true
    }
  },
  "cells": [
    {
      "cell_type": "markdown",
      "metadata": {
        "id": "view-in-github",
        "colab_type": "text"
      },
      "source": [
        "[View in Colaboratory](https://colab.research.google.com/github/marcelcerri/Integra-o-ordens-de-rea-o/blob/master/Integrando_equa%C3%A7%C3%B5es_diferenciais_segunda_ordem_Aula_02_PFI.ipynb)"
      ]
    },
    {
      "metadata": {
        "id": "CCwi196E9u6X",
        "colab_type": "text"
      },
      "cell_type": "markdown",
      "source": [
        "https://www.youtube.com/watch?v=8-V5T40aMEc"
      ]
    },
    {
      "metadata": {
        "id": "ve5rmK189t81",
        "colab_type": "code",
        "colab": {}
      },
      "cell_type": "code",
      "source": [
        "import numpy as np\n",
        "from scipy.integrate import odeint\n",
        "import matplotlib.pyplot as plt\n",
        "from google.colab import files"
      ],
      "execution_count": 0,
      "outputs": []
    },
    {
      "metadata": {
        "id": "uGIFhUr5-M5U",
        "colab_type": "code",
        "colab": {}
      },
      "cell_type": "code",
      "source": [
        "def secondorder(Ca,t):\n",
        "  k = 0.1\n",
        "  dydt = -k*Ca**2\n",
        "  return dydt"
      ],
      "execution_count": 0,
      "outputs": []
    },
    {
      "metadata": {
        "id": "E8AIL1QS_iYg",
        "colab_type": "code",
        "colab": {
          "base_uri": "https://localhost:8080/",
          "height": 34
        },
        "outputId": "dfe88dc1-3d8b-4839-db6c-a4866f7478e0"
      },
      "cell_type": "code",
      "source": [
        "t = np.linspace (0,10,11)\n",
        "Ca0 = 20\n",
        "print (t)"
      ],
      "execution_count": 8,
      "outputs": [
        {
          "output_type": "stream",
          "text": [
            "[ 0.  1.  2.  3.  4.  5.  6.  7.  8.  9. 10.]\n"
          ],
          "name": "stdout"
        }
      ]
    },
    {
      "metadata": {
        "id": "8-jZV5_A-7lW",
        "colab_type": "code",
        "colab": {}
      },
      "cell_type": "code",
      "source": [
        "y = odeint(secondorder, Ca0, t)"
      ],
      "execution_count": 0,
      "outputs": []
    },
    {
      "metadata": {
        "id": "jerU_yVj_Uy4",
        "colab_type": "code",
        "colab": {
          "base_uri": "https://localhost:8080/",
          "height": 204
        },
        "outputId": "5a609aeb-61dd-4f3c-8329-94aae686c364"
      },
      "cell_type": "code",
      "source": [
        "print(y)"
      ],
      "execution_count": 10,
      "outputs": [
        {
          "output_type": "stream",
          "text": [
            "[[20.        ]\n",
            " [ 6.66666651]\n",
            " [ 3.99999984]\n",
            " [ 2.85714271]\n",
            " [ 2.2222221 ]\n",
            " [ 1.81818171]\n",
            " [ 1.53846144]\n",
            " [ 1.33333324]\n",
            " [ 1.1764705 ]\n",
            " [ 1.0526315 ]\n",
            " [ 0.95238088]]\n"
          ],
          "name": "stdout"
        }
      ]
    },
    {
      "metadata": {
        "id": "dbMEybU1_Ws9",
        "colab_type": "code",
        "colab": {
          "base_uri": "https://localhost:8080/",
          "height": 364
        },
        "outputId": "c676ba3f-a5eb-43e9-9430-5297cddf2910"
      },
      "cell_type": "code",
      "source": [
        "plt.plot(t,y)"
      ],
      "execution_count": 11,
      "outputs": [
        {
          "output_type": "execute_result",
          "data": {
            "text/plain": [
              "[<matplotlib.lines.Line2D at 0x7ff8ce614210>]"
            ]
          },
          "metadata": {
            "tags": []
          },
          "execution_count": 11
        },
        {
          "output_type": "display_data",
          "data": {
            "image/png": "[encoded data removed]",
            "text/plain": [
              "<matplotlib.figure.Figure at 0x7ff8cda81390>"
            ]
          },
          "metadata": {
            "tags": []
          }
        }
      ]
    },
    {
      "metadata": {
        "id": "oHNeY97NACHY",
        "colab_type": "code",
        "colab": {
          "base_uri": "https://localhost:8080/",
          "height": 204
        },
        "outputId": "79c20bf8-3869-4d77-a626-5cc300b7e029"
      },
      "cell_type": "code",
      "source": [
        "#guardando as informações e salvando em txt\n",
        "data = np.vstack((t, y.T))\n",
        "data = data.T\n",
        "print(data)\n",
        "np.savetxt('data.txt',data, delimiter = \",\")\n",
        "files.download('data.txt')"
      ],
      "execution_count": 12,
      "outputs": [
        {
          "output_type": "stream",
          "text": [
            "[[ 0.         20.        ]\n",
            " [ 1.          6.66666651]\n",
            " [ 2.          3.99999984]\n",
            " [ 3.          2.85714271]\n",
            " [ 4.          2.2222221 ]\n",
            " [ 5.          1.81818171]\n",
            " [ 6.          1.53846144]\n",
            " [ 7.          1.33333324]\n",
            " [ 8.          1.1764705 ]\n",
            " [ 9.          1.0526315 ]\n",
            " [10.          0.95238088]]\n"
          ],
          "name": "stdout"
        }
      ]
    },
    {
      "metadata": {
        "id": "MPHbPNICG3G3",
        "colab_type": "code",
        "colab": {
          "base_uri": "https://localhost:8080/",
          "height": 221
        },
        "outputId": "b4a59331-c9b3-461f-be31-98c95be7693d"
      },
      "cell_type": "code",
      "source": [
        "#salvando em csv\n",
        "import pandas as pd \n",
        "df = pd.DataFrame(data)\n",
        "df.to_csv(\"data.csv\")\n",
        "files.download('data.csv')\n",
        "print(df)"
      ],
      "execution_count": 13,
      "outputs": [
        {
          "output_type": "stream",
          "text": [
            "       0          1\n",
            "0    0.0  20.000000\n",
            "1    1.0   6.666667\n",
            "2    2.0   4.000000\n",
            "3    3.0   2.857143\n",
            "4    4.0   2.222222\n",
            "5    5.0   1.818182\n",
            "6    6.0   1.538461\n",
            "7    7.0   1.333333\n",
            "8    8.0   1.176471\n",
            "9    9.0   1.052631\n",
            "10  10.0   0.952381\n"
          ],
          "name": "stdout"
        }
      ]
    },
    {
      "metadata": {
        "id": "x6bZaNSjJV6m",
        "colab_type": "code",
        "colab": {}
      },
      "cell_type": "code",
      "source": [
        ""
      ],
      "execution_count": 0,
      "outputs": []
    }
  ]
}