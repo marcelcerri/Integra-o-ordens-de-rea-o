{
  "nbformat": 4,
  "nbformat_minor": 0,
  "metadata": {
    "colab": {
      "name": "Integrando equações diferenciais - primeira ordem - Aula 02 PFI",
      "version": "0.3.2",
      "provenance": [],
      "include_colab_link": true
    }
  },
  "cells": [
    {
      "cell_type": "markdown",
      "metadata": {
        "id": "view-in-github",
        "colab_type": "text"
      },
      "source": [
        "[View in Colaboratory](https://colab.research.google.com/github/marcelcerri/Integra-o-ordens-de-rea-o/blob/master/Integrando_equa%C3%A7%C3%B5es_diferenciais_primeira_ordem_Aula_02_PFI.ipynb)"
      ]
    },
    {
      "metadata": {
        "id": "CCwi196E9u6X",
        "colab_type": "text"
      },
      "cell_type": "markdown",
      "source": [
        "https://www.youtube.com/watch?v=8-V5T40aMEc"
      ]
    },
    {
      "metadata": {
        "id": "ve5rmK189t81",
        "colab_type": "code",
        "colab": {}
      },
      "cell_type": "code",
      "source": [
        "import numpy as np\n",
        "from scipy.integrate import odeint\n",
        "import matplotlib.pyplot as plt\n",
        "from google.colab import files"
      ],
      "execution_count": 0,
      "outputs": []
    },
    {
      "metadata": {
        "id": "uGIFhUr5-M5U",
        "colab_type": "code",
        "colab": {}
      },
      "cell_type": "code",
      "source": [
        "def firstorder(Ca,t):\n",
        "  k = 0.5\n",
        "  dydt = -k*Ca\n",
        "  return dydt"
      ],
      "execution_count": 0,
      "outputs": []
    },
    {
      "metadata": {
        "id": "E8AIL1QS_iYg",
        "colab_type": "code",
        "colab": {
          "base_uri": "https://localhost:8080/",
          "height": 34
        },
        "outputId": "f52acc41-2510-42f7-d598-2daaa512f4a7"
      },
      "cell_type": "code",
      "source": [
        "t = np.linspace (0,10,11)\n",
        "Ca0 = 20\n",
        "print (t)"
      ],
      "execution_count": 16,
      "outputs": [
        {
          "output_type": "stream",
          "text": [
            "[ 0.  1.  2.  3.  4.  5.  6.  7.  8.  9. 10.]\n"
          ],
          "name": "stdout"
        }
      ]
    },
    {
      "metadata": {
        "id": "8-jZV5_A-7lW",
        "colab_type": "code",
        "colab": {}
      },
      "cell_type": "code",
      "source": [
        "y = odeint(firstorder, Ca0, t)"
      ],
      "execution_count": 0,
      "outputs": []
    },
    {
      "metadata": {
        "id": "jerU_yVj_Uy4",
        "colab_type": "code",
        "colab": {
          "base_uri": "https://localhost:8080/",
          "height": 204
        },
        "outputId": "b7ce92b0-2f3b-478f-9a17-d39fb45a9eea"
      },
      "cell_type": "code",
      "source": [
        "print(y)"
      ],
      "execution_count": 18,
      "outputs": [
        {
          "output_type": "stream",
          "text": [
            "[[20.        ]\n",
            " [12.13061353]\n",
            " [ 7.35758904]\n",
            " [ 4.46260332]\n",
            " [ 2.70670567]\n",
            " [ 1.64169995]\n",
            " [ 0.99574137]\n",
            " [ 0.60394768]\n",
            " [ 0.36631279]\n",
            " [ 0.22217994]\n",
            " [ 0.13475895]]\n"
          ],
          "name": "stdout"
        }
      ]
    },
    {
      "metadata": {
        "id": "dbMEybU1_Ws9",
        "colab_type": "code",
        "colab": {
          "base_uri": "https://localhost:8080/",
          "height": 364
        },
        "outputId": "1f9114e4-a26b-41c5-aaec-06eecf08b911"
      },
      "cell_type": "code",
      "source": [
        "plt.plot(t,y)"
      ],
      "execution_count": 19,
      "outputs": [
        {
          "output_type": "execute_result",
          "data": {
            "text/plain": [
              "[<matplotlib.lines.Line2D at 0x7fbdb7340190>]"
            ]
          },
          "metadata": {
            "tags": []
          },
          "execution_count": 19
        },
        {
          "output_type": "display_data",
          "data": {
            "image/png": "[encoded data removed]",
            "text/plain": [
              "<matplotlib.figure.Figure at 0x7fbdb7bbc190>"
            ]
          },
          "metadata": {
            "tags": []
          }
        }
      ]
    },
    {
      "metadata": {
        "id": "oHNeY97NACHY",
        "colab_type": "code",
        "colab": {
          "base_uri": "https://localhost:8080/",
          "height": 204
        },
        "outputId": "3c3b7855-c263-4c41-da31-648aea09b8ce"
      },
      "cell_type": "code",
      "source": [
        "#guardando as informações e salvando em txt\n",
        "data = np.vstack((t, y.T))\n",
        "data = data.T\n",
        "print(data)\n",
        "np.savetxt('data.txt',data, delimiter = \",\")\n",
        "files.download('data.txt')"
      ],
      "execution_count": 20,
      "outputs": [
        {
          "output_type": "stream",
          "text": [
            "[[ 0.         20.        ]\n",
            " [ 1.         12.13061353]\n",
            " [ 2.          7.35758904]\n",
            " [ 3.          4.46260332]\n",
            " [ 4.          2.70670567]\n",
            " [ 5.          1.64169995]\n",
            " [ 6.          0.99574137]\n",
            " [ 7.          0.60394768]\n",
            " [ 8.          0.36631279]\n",
            " [ 9.          0.22217994]\n",
            " [10.          0.13475895]]\n"
          ],
          "name": "stdout"
        }
      ]
    },
    {
      "metadata": {
        "id": "MPHbPNICG3G3",
        "colab_type": "code",
        "colab": {
          "base_uri": "https://localhost:8080/",
          "height": 221
        },
        "outputId": "618d3cd6-5bb2-4bbd-e090-2b1234b88458"
      },
      "cell_type": "code",
      "source": [
        "#salvando em csv\n",
        "import pandas as pd \n",
        "df = pd.DataFrame(data)\n",
        "df.to_csv(\"data.csv\")\n",
        "files.download('data.csv')\n",
        "print(df)"
      ],
      "execution_count": 21,
      "outputs": [
        {
          "output_type": "stream",
          "text": [
            "       0          1\n",
            "0    0.0  20.000000\n",
            "1    1.0  12.130614\n",
            "2    2.0   7.357589\n",
            "3    3.0   4.462603\n",
            "4    4.0   2.706706\n",
            "5    5.0   1.641700\n",
            "6    6.0   0.995741\n",
            "7    7.0   0.603948\n",
            "8    8.0   0.366313\n",
            "9    9.0   0.222180\n",
            "10  10.0   0.134759\n"
          ],
          "name": "stdout"
        }
      ]
    },
    {
      "metadata": {
        "id": "x6bZaNSjJV6m",
        "colab_type": "code",
        "colab": {}
      },
      "cell_type": "code",
      "source": [
        ""
      ],
      "execution_count": 0,
      "outputs": []
    }
  ]
}